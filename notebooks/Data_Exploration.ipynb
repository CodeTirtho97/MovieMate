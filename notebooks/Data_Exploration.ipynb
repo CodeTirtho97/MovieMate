{
 "cells": [
  {
   "cell_type": "markdown",
   "id": "79e2b2e9-bb17-439c-a48b-2bdce895a85a",
   "metadata": {},
   "source": [
    "<h1 style=\"color:yellow; text-align:center; font-size:50px;\">MovieMate</h1>\n",
    "<h2 align=\"center\" style=\"color:yellow;\">--Movie Recommendation Engine--</h2>\n",
    "\n"
   ]
  },
  {
   "cell_type": "markdown",
   "id": "022a34fa-d3dd-483d-af2c-570d5bf67c7e",
   "metadata": {},
   "source": [
    "<h3 style=\"color:cyan;\"> Installation of required Python Libraries. </h3>\n",
    "<i>This is only needed for first time initialization for a new system running it for the first time.</i>"
   ]
  },
  {
   "cell_type": "code",
   "execution_count": 1,
   "id": "40d19ccd-ca42-4ffb-8dc4-b8c3393ab1bf",
   "metadata": {
    "scrolled": true
   },
   "outputs": [
    {
     "name": "stdout",
     "output_type": "stream",
     "text": [
      "Requirement already satisfied: pandas in c:\\users\\user\\appdata\\local\\programs\\python\\python312\\lib\\site-packages (2.2.2)\n",
      "Requirement already satisfied: numpy in c:\\users\\user\\appdata\\local\\programs\\python\\python312\\lib\\site-packages (2.0.2)\n",
      "Requirement already satisfied: scikit-learn in c:\\users\\user\\appdata\\local\\programs\\python\\python312\\lib\\site-packages (1.5.1)\n",
      "Requirement already satisfied: matplotlib in c:\\users\\user\\appdata\\local\\programs\\python\\python312\\lib\\site-packages (3.9.2)\n",
      "Requirement already satisfied: python-dateutil>=2.8.2 in c:\\users\\user\\appdata\\local\\programs\\python\\python312\\lib\\site-packages (from pandas) (2.9.0.post0)\n",
      "Requirement already satisfied: pytz>=2020.1 in c:\\users\\user\\appdata\\local\\programs\\python\\python312\\lib\\site-packages (from pandas) (2024.1)\n",
      "Requirement already satisfied: tzdata>=2022.7 in c:\\users\\user\\appdata\\local\\programs\\python\\python312\\lib\\site-packages (from pandas) (2024.1)\n",
      "Requirement already satisfied: scipy>=1.6.0 in c:\\users\\user\\appdata\\local\\programs\\python\\python312\\lib\\site-packages (from scikit-learn) (1.14.1)\n",
      "Requirement already satisfied: joblib>=1.2.0 in c:\\users\\user\\appdata\\local\\programs\\python\\python312\\lib\\site-packages (from scikit-learn) (1.4.2)\n",
      "Requirement already satisfied: threadpoolctl>=3.1.0 in c:\\users\\user\\appdata\\local\\programs\\python\\python312\\lib\\site-packages (from scikit-learn) (3.5.0)\n",
      "Requirement already satisfied: contourpy>=1.0.1 in c:\\users\\user\\appdata\\local\\programs\\python\\python312\\lib\\site-packages (from matplotlib) (1.3.0)\n",
      "Requirement already satisfied: cycler>=0.10 in c:\\users\\user\\appdata\\local\\programs\\python\\python312\\lib\\site-packages (from matplotlib) (0.12.1)\n",
      "Requirement already satisfied: fonttools>=4.22.0 in c:\\users\\user\\appdata\\local\\programs\\python\\python312\\lib\\site-packages (from matplotlib) (4.53.1)\n",
      "Requirement already satisfied: kiwisolver>=1.3.1 in c:\\users\\user\\appdata\\local\\programs\\python\\python312\\lib\\site-packages (from matplotlib) (1.4.5)\n",
      "Requirement already satisfied: packaging>=20.0 in c:\\users\\user\\appdata\\local\\programs\\python\\python312\\lib\\site-packages (from matplotlib) (24.1)\n",
      "Requirement already satisfied: pillow>=8 in c:\\users\\user\\appdata\\local\\programs\\python\\python312\\lib\\site-packages (from matplotlib) (10.4.0)\n",
      "Requirement already satisfied: pyparsing>=2.3.1 in c:\\users\\user\\appdata\\local\\programs\\python\\python312\\lib\\site-packages (from matplotlib) (3.1.4)\n",
      "Requirement already satisfied: six>=1.5 in c:\\users\\user\\appdata\\local\\programs\\python\\python312\\lib\\site-packages (from python-dateutil>=2.8.2->pandas) (1.16.0)\n"
     ]
    }
   ],
   "source": [
    "!pip install pandas numpy scikit-learn matplotlib"
   ]
  },
  {
   "cell_type": "markdown",
   "id": "6b442143-b42f-4bcf-a5a3-7db6995b50b1",
   "metadata": {},
   "source": [
    "<h4 style=\"color:cyan;\">Code Block 1: Loading and Previewing the Dataset</h4>"
   ]
  },
  {
   "cell_type": "code",
   "execution_count": 2,
   "id": "d3f65f68-8f21-47b6-95f2-9e23d23fbc6f",
   "metadata": {},
   "outputs": [
    {
     "ename": "FileNotFoundError",
     "evalue": "[Errno 2] No such file or directory: 'ml-100k/u.data'",
     "output_type": "error",
     "traceback": [
      "\u001b[1;31m---------------------------------------------------------------------------\u001b[0m",
      "\u001b[1;31mFileNotFoundError\u001b[0m                         Traceback (most recent call last)",
      "Cell \u001b[1;32mIn[2], line 12\u001b[0m\n\u001b[0;32m      3\u001b[0m \u001b[38;5;66;03m# Load movies and ratings datac\u001b[39;00m\n\u001b[0;32m      4\u001b[0m movies_df \u001b[38;5;241m=\u001b[39m pd\u001b[38;5;241m.\u001b[39mread_csv(\u001b[38;5;124m'\u001b[39m\u001b[38;5;124m../data/u.item\u001b[39m\u001b[38;5;124m'\u001b[39m, sep\u001b[38;5;241m=\u001b[39m\u001b[38;5;124m'\u001b[39m\u001b[38;5;124m|\u001b[39m\u001b[38;5;124m'\u001b[39m, encoding\u001b[38;5;241m=\u001b[39m\u001b[38;5;124m'\u001b[39m\u001b[38;5;124mlatin-1\u001b[39m\u001b[38;5;124m'\u001b[39m, header\u001b[38;5;241m=\u001b[39m\u001b[38;5;28;01mNone\u001b[39;00m,\n\u001b[0;32m      5\u001b[0m                         names\u001b[38;5;241m=\u001b[39m[\u001b[38;5;124m'\u001b[39m\u001b[38;5;124mmovie_id\u001b[39m\u001b[38;5;124m'\u001b[39m, \u001b[38;5;124m'\u001b[39m\u001b[38;5;124mmovie_title\u001b[39m\u001b[38;5;124m'\u001b[39m, \u001b[38;5;124m'\u001b[39m\u001b[38;5;124mrelease_date\u001b[39m\u001b[38;5;124m'\u001b[39m, \u001b[38;5;124m'\u001b[39m\u001b[38;5;124mvideo_release_date\u001b[39m\u001b[38;5;124m'\u001b[39m, \n\u001b[0;32m      6\u001b[0m                                \u001b[38;5;124m'\u001b[39m\u001b[38;5;124mIMDb_URL\u001b[39m\u001b[38;5;124m'\u001b[39m, \u001b[38;5;124m'\u001b[39m\u001b[38;5;124munknown\u001b[39m\u001b[38;5;124m'\u001b[39m, \u001b[38;5;124m'\u001b[39m\u001b[38;5;124mAction\u001b[39m\u001b[38;5;124m'\u001b[39m, \u001b[38;5;124m'\u001b[39m\u001b[38;5;124mAdventure\u001b[39m\u001b[38;5;124m'\u001b[39m, \u001b[38;5;124m'\u001b[39m\u001b[38;5;124mAnimation\u001b[39m\u001b[38;5;124m'\u001b[39m, \n\u001b[0;32m      7\u001b[0m                                \u001b[38;5;124m'\u001b[39m\u001b[38;5;124mChildren\u001b[39m\u001b[38;5;124m'\u001b[39m, \u001b[38;5;124m'\u001b[39m\u001b[38;5;124mComedy\u001b[39m\u001b[38;5;124m'\u001b[39m, \u001b[38;5;124m'\u001b[39m\u001b[38;5;124mCrime\u001b[39m\u001b[38;5;124m'\u001b[39m, \u001b[38;5;124m'\u001b[39m\u001b[38;5;124mDocumentary\u001b[39m\u001b[38;5;124m'\u001b[39m, \u001b[38;5;124m'\u001b[39m\u001b[38;5;124mDrama\u001b[39m\u001b[38;5;124m'\u001b[39m, \u001b[38;5;124m'\u001b[39m\u001b[38;5;124mFantasy\u001b[39m\u001b[38;5;124m'\u001b[39m, \n\u001b[0;32m      8\u001b[0m                                \u001b[38;5;124m'\u001b[39m\u001b[38;5;124mFilm-Noir\u001b[39m\u001b[38;5;124m'\u001b[39m, \u001b[38;5;124m'\u001b[39m\u001b[38;5;124mHorror\u001b[39m\u001b[38;5;124m'\u001b[39m, \u001b[38;5;124m'\u001b[39m\u001b[38;5;124mMusical\u001b[39m\u001b[38;5;124m'\u001b[39m, \u001b[38;5;124m'\u001b[39m\u001b[38;5;124mMystery\u001b[39m\u001b[38;5;124m'\u001b[39m, \u001b[38;5;124m'\u001b[39m\u001b[38;5;124mRomance\u001b[39m\u001b[38;5;124m'\u001b[39m, \n\u001b[0;32m      9\u001b[0m                                \u001b[38;5;124m'\u001b[39m\u001b[38;5;124mSci-Fi\u001b[39m\u001b[38;5;124m'\u001b[39m, \u001b[38;5;124m'\u001b[39m\u001b[38;5;124mThriller\u001b[39m\u001b[38;5;124m'\u001b[39m, \u001b[38;5;124m'\u001b[39m\u001b[38;5;124mWar\u001b[39m\u001b[38;5;124m'\u001b[39m, \u001b[38;5;124m'\u001b[39m\u001b[38;5;124mWestern\u001b[39m\u001b[38;5;124m'\u001b[39m])\n\u001b[1;32m---> 12\u001b[0m ratings_df \u001b[38;5;241m=\u001b[39m \u001b[43mpd\u001b[49m\u001b[38;5;241;43m.\u001b[39;49m\u001b[43mread_csv\u001b[49m\u001b[43m(\u001b[49m\u001b[38;5;124;43m'\u001b[39;49m\u001b[38;5;124;43mml-100k/u.data\u001b[39;49m\u001b[38;5;124;43m'\u001b[39;49m\u001b[43m,\u001b[49m\u001b[43m \u001b[49m\u001b[43msep\u001b[49m\u001b[38;5;241;43m=\u001b[39;49m\u001b[38;5;124;43m'\u001b[39;49m\u001b[38;5;130;43;01m\\t\u001b[39;49;00m\u001b[38;5;124;43m'\u001b[39;49m\u001b[43m,\u001b[49m\u001b[43m \u001b[49m\u001b[43mencoding\u001b[49m\u001b[38;5;241;43m=\u001b[39;49m\u001b[38;5;124;43m'\u001b[39;49m\u001b[38;5;124;43mlatin-1\u001b[39;49m\u001b[38;5;124;43m'\u001b[39;49m\u001b[43m,\u001b[49m\u001b[43m \u001b[49m\u001b[43mheader\u001b[49m\u001b[38;5;241;43m=\u001b[39;49m\u001b[38;5;28;43;01mNone\u001b[39;49;00m\u001b[43m,\u001b[49m\n\u001b[0;32m     13\u001b[0m \u001b[43m                         \u001b[49m\u001b[43mnames\u001b[49m\u001b[38;5;241;43m=\u001b[39;49m\u001b[43m[\u001b[49m\u001b[38;5;124;43m'\u001b[39;49m\u001b[38;5;124;43muser_id\u001b[39;49m\u001b[38;5;124;43m'\u001b[39;49m\u001b[43m,\u001b[49m\u001b[43m \u001b[49m\u001b[38;5;124;43m'\u001b[39;49m\u001b[38;5;124;43mmovie_id\u001b[39;49m\u001b[38;5;124;43m'\u001b[39;49m\u001b[43m,\u001b[49m\u001b[43m \u001b[49m\u001b[38;5;124;43m'\u001b[39;49m\u001b[38;5;124;43mrating\u001b[39;49m\u001b[38;5;124;43m'\u001b[39;49m\u001b[43m,\u001b[49m\u001b[43m \u001b[49m\u001b[38;5;124;43m'\u001b[39;49m\u001b[38;5;124;43mtimestamp\u001b[39;49m\u001b[38;5;124;43m'\u001b[39;49m\u001b[43m]\u001b[49m\u001b[43m)\u001b[49m\n\u001b[0;32m     15\u001b[0m \u001b[38;5;66;03m# Preview the data\u001b[39;00m\n\u001b[0;32m     16\u001b[0m display(movies_df\u001b[38;5;241m.\u001b[39mhead(\u001b[38;5;241m20\u001b[39m))\n",
      "File \u001b[1;32mc:\\Users\\User\\AppData\\Local\\Programs\\Python\\Python312\\Lib\\site-packages\\pandas\\io\\parsers\\readers.py:1026\u001b[0m, in \u001b[0;36mread_csv\u001b[1;34m(filepath_or_buffer, sep, delimiter, header, names, index_col, usecols, dtype, engine, converters, true_values, false_values, skipinitialspace, skiprows, skipfooter, nrows, na_values, keep_default_na, na_filter, verbose, skip_blank_lines, parse_dates, infer_datetime_format, keep_date_col, date_parser, date_format, dayfirst, cache_dates, iterator, chunksize, compression, thousands, decimal, lineterminator, quotechar, quoting, doublequote, escapechar, comment, encoding, encoding_errors, dialect, on_bad_lines, delim_whitespace, low_memory, memory_map, float_precision, storage_options, dtype_backend)\u001b[0m\n\u001b[0;32m   1013\u001b[0m kwds_defaults \u001b[38;5;241m=\u001b[39m _refine_defaults_read(\n\u001b[0;32m   1014\u001b[0m     dialect,\n\u001b[0;32m   1015\u001b[0m     delimiter,\n\u001b[1;32m   (...)\u001b[0m\n\u001b[0;32m   1022\u001b[0m     dtype_backend\u001b[38;5;241m=\u001b[39mdtype_backend,\n\u001b[0;32m   1023\u001b[0m )\n\u001b[0;32m   1024\u001b[0m kwds\u001b[38;5;241m.\u001b[39mupdate(kwds_defaults)\n\u001b[1;32m-> 1026\u001b[0m \u001b[38;5;28;01mreturn\u001b[39;00m \u001b[43m_read\u001b[49m\u001b[43m(\u001b[49m\u001b[43mfilepath_or_buffer\u001b[49m\u001b[43m,\u001b[49m\u001b[43m \u001b[49m\u001b[43mkwds\u001b[49m\u001b[43m)\u001b[49m\n",
      "File \u001b[1;32mc:\\Users\\User\\AppData\\Local\\Programs\\Python\\Python312\\Lib\\site-packages\\pandas\\io\\parsers\\readers.py:620\u001b[0m, in \u001b[0;36m_read\u001b[1;34m(filepath_or_buffer, kwds)\u001b[0m\n\u001b[0;32m    617\u001b[0m _validate_names(kwds\u001b[38;5;241m.\u001b[39mget(\u001b[38;5;124m\"\u001b[39m\u001b[38;5;124mnames\u001b[39m\u001b[38;5;124m\"\u001b[39m, \u001b[38;5;28;01mNone\u001b[39;00m))\n\u001b[0;32m    619\u001b[0m \u001b[38;5;66;03m# Create the parser.\u001b[39;00m\n\u001b[1;32m--> 620\u001b[0m parser \u001b[38;5;241m=\u001b[39m \u001b[43mTextFileReader\u001b[49m\u001b[43m(\u001b[49m\u001b[43mfilepath_or_buffer\u001b[49m\u001b[43m,\u001b[49m\u001b[43m \u001b[49m\u001b[38;5;241;43m*\u001b[39;49m\u001b[38;5;241;43m*\u001b[39;49m\u001b[43mkwds\u001b[49m\u001b[43m)\u001b[49m\n\u001b[0;32m    622\u001b[0m \u001b[38;5;28;01mif\u001b[39;00m chunksize \u001b[38;5;129;01mor\u001b[39;00m iterator:\n\u001b[0;32m    623\u001b[0m     \u001b[38;5;28;01mreturn\u001b[39;00m parser\n",
      "File \u001b[1;32mc:\\Users\\User\\AppData\\Local\\Programs\\Python\\Python312\\Lib\\site-packages\\pandas\\io\\parsers\\readers.py:1620\u001b[0m, in \u001b[0;36mTextFileReader.__init__\u001b[1;34m(self, f, engine, **kwds)\u001b[0m\n\u001b[0;32m   1617\u001b[0m     \u001b[38;5;28mself\u001b[39m\u001b[38;5;241m.\u001b[39moptions[\u001b[38;5;124m\"\u001b[39m\u001b[38;5;124mhas_index_names\u001b[39m\u001b[38;5;124m\"\u001b[39m] \u001b[38;5;241m=\u001b[39m kwds[\u001b[38;5;124m\"\u001b[39m\u001b[38;5;124mhas_index_names\u001b[39m\u001b[38;5;124m\"\u001b[39m]\n\u001b[0;32m   1619\u001b[0m \u001b[38;5;28mself\u001b[39m\u001b[38;5;241m.\u001b[39mhandles: IOHandles \u001b[38;5;241m|\u001b[39m \u001b[38;5;28;01mNone\u001b[39;00m \u001b[38;5;241m=\u001b[39m \u001b[38;5;28;01mNone\u001b[39;00m\n\u001b[1;32m-> 1620\u001b[0m \u001b[38;5;28mself\u001b[39m\u001b[38;5;241m.\u001b[39m_engine \u001b[38;5;241m=\u001b[39m \u001b[38;5;28;43mself\u001b[39;49m\u001b[38;5;241;43m.\u001b[39;49m\u001b[43m_make_engine\u001b[49m\u001b[43m(\u001b[49m\u001b[43mf\u001b[49m\u001b[43m,\u001b[49m\u001b[43m \u001b[49m\u001b[38;5;28;43mself\u001b[39;49m\u001b[38;5;241;43m.\u001b[39;49m\u001b[43mengine\u001b[49m\u001b[43m)\u001b[49m\n",
      "File \u001b[1;32mc:\\Users\\User\\AppData\\Local\\Programs\\Python\\Python312\\Lib\\site-packages\\pandas\\io\\parsers\\readers.py:1880\u001b[0m, in \u001b[0;36mTextFileReader._make_engine\u001b[1;34m(self, f, engine)\u001b[0m\n\u001b[0;32m   1878\u001b[0m     \u001b[38;5;28;01mif\u001b[39;00m \u001b[38;5;124m\"\u001b[39m\u001b[38;5;124mb\u001b[39m\u001b[38;5;124m\"\u001b[39m \u001b[38;5;129;01mnot\u001b[39;00m \u001b[38;5;129;01min\u001b[39;00m mode:\n\u001b[0;32m   1879\u001b[0m         mode \u001b[38;5;241m+\u001b[39m\u001b[38;5;241m=\u001b[39m \u001b[38;5;124m\"\u001b[39m\u001b[38;5;124mb\u001b[39m\u001b[38;5;124m\"\u001b[39m\n\u001b[1;32m-> 1880\u001b[0m \u001b[38;5;28mself\u001b[39m\u001b[38;5;241m.\u001b[39mhandles \u001b[38;5;241m=\u001b[39m \u001b[43mget_handle\u001b[49m\u001b[43m(\u001b[49m\n\u001b[0;32m   1881\u001b[0m \u001b[43m    \u001b[49m\u001b[43mf\u001b[49m\u001b[43m,\u001b[49m\n\u001b[0;32m   1882\u001b[0m \u001b[43m    \u001b[49m\u001b[43mmode\u001b[49m\u001b[43m,\u001b[49m\n\u001b[0;32m   1883\u001b[0m \u001b[43m    \u001b[49m\u001b[43mencoding\u001b[49m\u001b[38;5;241;43m=\u001b[39;49m\u001b[38;5;28;43mself\u001b[39;49m\u001b[38;5;241;43m.\u001b[39;49m\u001b[43moptions\u001b[49m\u001b[38;5;241;43m.\u001b[39;49m\u001b[43mget\u001b[49m\u001b[43m(\u001b[49m\u001b[38;5;124;43m\"\u001b[39;49m\u001b[38;5;124;43mencoding\u001b[39;49m\u001b[38;5;124;43m\"\u001b[39;49m\u001b[43m,\u001b[49m\u001b[43m \u001b[49m\u001b[38;5;28;43;01mNone\u001b[39;49;00m\u001b[43m)\u001b[49m\u001b[43m,\u001b[49m\n\u001b[0;32m   1884\u001b[0m \u001b[43m    \u001b[49m\u001b[43mcompression\u001b[49m\u001b[38;5;241;43m=\u001b[39;49m\u001b[38;5;28;43mself\u001b[39;49m\u001b[38;5;241;43m.\u001b[39;49m\u001b[43moptions\u001b[49m\u001b[38;5;241;43m.\u001b[39;49m\u001b[43mget\u001b[49m\u001b[43m(\u001b[49m\u001b[38;5;124;43m\"\u001b[39;49m\u001b[38;5;124;43mcompression\u001b[39;49m\u001b[38;5;124;43m\"\u001b[39;49m\u001b[43m,\u001b[49m\u001b[43m \u001b[49m\u001b[38;5;28;43;01mNone\u001b[39;49;00m\u001b[43m)\u001b[49m\u001b[43m,\u001b[49m\n\u001b[0;32m   1885\u001b[0m \u001b[43m    \u001b[49m\u001b[43mmemory_map\u001b[49m\u001b[38;5;241;43m=\u001b[39;49m\u001b[38;5;28;43mself\u001b[39;49m\u001b[38;5;241;43m.\u001b[39;49m\u001b[43moptions\u001b[49m\u001b[38;5;241;43m.\u001b[39;49m\u001b[43mget\u001b[49m\u001b[43m(\u001b[49m\u001b[38;5;124;43m\"\u001b[39;49m\u001b[38;5;124;43mmemory_map\u001b[39;49m\u001b[38;5;124;43m\"\u001b[39;49m\u001b[43m,\u001b[49m\u001b[43m \u001b[49m\u001b[38;5;28;43;01mFalse\u001b[39;49;00m\u001b[43m)\u001b[49m\u001b[43m,\u001b[49m\n\u001b[0;32m   1886\u001b[0m \u001b[43m    \u001b[49m\u001b[43mis_text\u001b[49m\u001b[38;5;241;43m=\u001b[39;49m\u001b[43mis_text\u001b[49m\u001b[43m,\u001b[49m\n\u001b[0;32m   1887\u001b[0m \u001b[43m    \u001b[49m\u001b[43merrors\u001b[49m\u001b[38;5;241;43m=\u001b[39;49m\u001b[38;5;28;43mself\u001b[39;49m\u001b[38;5;241;43m.\u001b[39;49m\u001b[43moptions\u001b[49m\u001b[38;5;241;43m.\u001b[39;49m\u001b[43mget\u001b[49m\u001b[43m(\u001b[49m\u001b[38;5;124;43m\"\u001b[39;49m\u001b[38;5;124;43mencoding_errors\u001b[39;49m\u001b[38;5;124;43m\"\u001b[39;49m\u001b[43m,\u001b[49m\u001b[43m \u001b[49m\u001b[38;5;124;43m\"\u001b[39;49m\u001b[38;5;124;43mstrict\u001b[39;49m\u001b[38;5;124;43m\"\u001b[39;49m\u001b[43m)\u001b[49m\u001b[43m,\u001b[49m\n\u001b[0;32m   1888\u001b[0m \u001b[43m    \u001b[49m\u001b[43mstorage_options\u001b[49m\u001b[38;5;241;43m=\u001b[39;49m\u001b[38;5;28;43mself\u001b[39;49m\u001b[38;5;241;43m.\u001b[39;49m\u001b[43moptions\u001b[49m\u001b[38;5;241;43m.\u001b[39;49m\u001b[43mget\u001b[49m\u001b[43m(\u001b[49m\u001b[38;5;124;43m\"\u001b[39;49m\u001b[38;5;124;43mstorage_options\u001b[39;49m\u001b[38;5;124;43m\"\u001b[39;49m\u001b[43m,\u001b[49m\u001b[43m \u001b[49m\u001b[38;5;28;43;01mNone\u001b[39;49;00m\u001b[43m)\u001b[49m\u001b[43m,\u001b[49m\n\u001b[0;32m   1889\u001b[0m \u001b[43m\u001b[49m\u001b[43m)\u001b[49m\n\u001b[0;32m   1890\u001b[0m \u001b[38;5;28;01massert\u001b[39;00m \u001b[38;5;28mself\u001b[39m\u001b[38;5;241m.\u001b[39mhandles \u001b[38;5;129;01mis\u001b[39;00m \u001b[38;5;129;01mnot\u001b[39;00m \u001b[38;5;28;01mNone\u001b[39;00m\n\u001b[0;32m   1891\u001b[0m f \u001b[38;5;241m=\u001b[39m \u001b[38;5;28mself\u001b[39m\u001b[38;5;241m.\u001b[39mhandles\u001b[38;5;241m.\u001b[39mhandle\n",
      "File \u001b[1;32mc:\\Users\\User\\AppData\\Local\\Programs\\Python\\Python312\\Lib\\site-packages\\pandas\\io\\common.py:873\u001b[0m, in \u001b[0;36mget_handle\u001b[1;34m(path_or_buf, mode, encoding, compression, memory_map, is_text, errors, storage_options)\u001b[0m\n\u001b[0;32m    868\u001b[0m \u001b[38;5;28;01melif\u001b[39;00m \u001b[38;5;28misinstance\u001b[39m(handle, \u001b[38;5;28mstr\u001b[39m):\n\u001b[0;32m    869\u001b[0m     \u001b[38;5;66;03m# Check whether the filename is to be opened in binary mode.\u001b[39;00m\n\u001b[0;32m    870\u001b[0m     \u001b[38;5;66;03m# Binary mode does not support 'encoding' and 'newline'.\u001b[39;00m\n\u001b[0;32m    871\u001b[0m     \u001b[38;5;28;01mif\u001b[39;00m ioargs\u001b[38;5;241m.\u001b[39mencoding \u001b[38;5;129;01mand\u001b[39;00m \u001b[38;5;124m\"\u001b[39m\u001b[38;5;124mb\u001b[39m\u001b[38;5;124m\"\u001b[39m \u001b[38;5;129;01mnot\u001b[39;00m \u001b[38;5;129;01min\u001b[39;00m ioargs\u001b[38;5;241m.\u001b[39mmode:\n\u001b[0;32m    872\u001b[0m         \u001b[38;5;66;03m# Encoding\u001b[39;00m\n\u001b[1;32m--> 873\u001b[0m         handle \u001b[38;5;241m=\u001b[39m \u001b[38;5;28;43mopen\u001b[39;49m\u001b[43m(\u001b[49m\n\u001b[0;32m    874\u001b[0m \u001b[43m            \u001b[49m\u001b[43mhandle\u001b[49m\u001b[43m,\u001b[49m\n\u001b[0;32m    875\u001b[0m \u001b[43m            \u001b[49m\u001b[43mioargs\u001b[49m\u001b[38;5;241;43m.\u001b[39;49m\u001b[43mmode\u001b[49m\u001b[43m,\u001b[49m\n\u001b[0;32m    876\u001b[0m \u001b[43m            \u001b[49m\u001b[43mencoding\u001b[49m\u001b[38;5;241;43m=\u001b[39;49m\u001b[43mioargs\u001b[49m\u001b[38;5;241;43m.\u001b[39;49m\u001b[43mencoding\u001b[49m\u001b[43m,\u001b[49m\n\u001b[0;32m    877\u001b[0m \u001b[43m            \u001b[49m\u001b[43merrors\u001b[49m\u001b[38;5;241;43m=\u001b[39;49m\u001b[43merrors\u001b[49m\u001b[43m,\u001b[49m\n\u001b[0;32m    878\u001b[0m \u001b[43m            \u001b[49m\u001b[43mnewline\u001b[49m\u001b[38;5;241;43m=\u001b[39;49m\u001b[38;5;124;43m\"\u001b[39;49m\u001b[38;5;124;43m\"\u001b[39;49m\u001b[43m,\u001b[49m\n\u001b[0;32m    879\u001b[0m \u001b[43m        \u001b[49m\u001b[43m)\u001b[49m\n\u001b[0;32m    880\u001b[0m     \u001b[38;5;28;01melse\u001b[39;00m:\n\u001b[0;32m    881\u001b[0m         \u001b[38;5;66;03m# Binary mode\u001b[39;00m\n\u001b[0;32m    882\u001b[0m         handle \u001b[38;5;241m=\u001b[39m \u001b[38;5;28mopen\u001b[39m(handle, ioargs\u001b[38;5;241m.\u001b[39mmode)\n",
      "\u001b[1;31mFileNotFoundError\u001b[0m: [Errno 2] No such file or directory: 'ml-100k/u.data'"
     ]
    }
   ],
   "source": [
    "import pandas as pd\n",
    "\n",
    "# Load movies and ratings datac\n",
    "movies_df = pd.read_csv('../data/u.item', sep='|', encoding='latin-1', header=None,\n",
    "                        names=['movie_id', 'movie_title', 'release_date', 'video_release_date', \n",
    "                               'IMDb_URL', 'unknown', 'Action', 'Adventure', 'Animation', \n",
    "                               'Children', 'Comedy', 'Crime', 'Documentary', 'Drama', 'Fantasy', \n",
    "                               'Film-Noir', 'Horror', 'Musical', 'Mystery', 'Romance', \n",
    "                               'Sci-Fi', 'Thriller', 'War', 'Western'])\n",
    "\n",
    "\n",
    "ratings_df = pd.read_csv('ml-100k/u.data', sep='\\t', encoding='latin-1', header=None,\n",
    "                         names=['user_id', 'movie_id', 'rating', 'timestamp'])\n",
    "\n",
    "# Preview the data\n",
    "display(movies_df.head(20))\n",
    "display(ratings_df.head(20))"
   ]
  },
  {
   "cell_type": "markdown",
   "id": "53c21770-b75c-4420-a3e7-5d8d02884486",
   "metadata": {},
   "source": [
    "<h4 style=\"color:orange;\"> Explanation: </h4>\n",
    "\n",
    "The above block introduces the two main datasets:\n",
    "\n",
    "<b>Movies Dataset:</b> Contains details about movies, including their titles, release dates, genres, and IMDb links.\n",
    "\n",
    "<b>Ratings Dataset:</b> Records how users have rated movies, complete with timestamps.\n",
    "\n",
    "Think of these datasets as two puzzle pieces. The movies_df gives you a list of movies, and the ratings_df provides insights into what people think about them. For example, if you want to know whether \"Toy Story (1995)\" was a fan favorite, this dataset combination can tell you.\n",
    "\n",
    "\n",
    "The head(20) function shows the first 20 rows, letting us peek into the data. This is like flipping through the first few pages of a book to see if the story grabs your attention!"
   ]
  },
  {
   "cell_type": "markdown",
   "id": "e4addb37-7a74-4723-99f9-37192bafb1e2",
   "metadata": {},
   "source": [
    "<h4 style=\"color:cyan;\">Code Block 2: Inspecting the Structure of the DataFrames </h4>"
   ]
  },
  {
   "cell_type": "code",
   "execution_count": null,
   "id": "8c87fc23-78ca-416c-82b6-4756f2638693",
   "metadata": {},
   "outputs": [],
   "source": [
    "# Basic Info about datasets\n",
    "print(\"Movies DataFrame Info:\")\n",
    "print(movies_df.info())\n",
    "\n",
    "print(\"Ratings DataFrame Info:\")\n",
    "print(ratings_df.info())"
   ]
  },
  {
   "cell_type": "markdown",
   "id": "856ed659-4d11-4049-acda-d07b3e264663",
   "metadata": {},
   "source": [
    "<h4 style=\"color:orange;\"> Explanation: </h4>\n",
    "\n",
    "The above block examines the structure and metadata of both DataFrames. Key insights include:\n",
    "\n",
    "Total number of rows and columns.\n",
    "Data types of each column (e.g., integers, strings, floats).\n",
    "Presence of missing values.\n",
    "<b>Example Insights:</b>\n",
    "\n",
    "The movies_df has 1,682 rows, with some missing release dates.\n",
    "The ratings_df has 100,000 ratings from users.\n",
    "\n",
    "Understanding your dataset's structure is essential for planning your data cleaning and analysis steps. It’s like knowing the tools in your toolbox before starting a DIY project."
   ]
  },
  {
   "cell_type": "markdown",
   "id": "447b2b32-3194-4c88-9320-e26add3a82bb",
   "metadata": {},
   "source": [
    "<h4 style=\"color:cyan;\">Code Block 3: Counting Missing Values </h4>"
   ]
  },
  {
   "cell_type": "code",
   "execution_count": null,
   "id": "9430c278-63aa-4f27-9a22-902e26156f3c",
   "metadata": {},
   "outputs": [],
   "source": [
    "# Check for any missing values\n",
    "print(\"\\nMissing values in Movies Data:\")\n",
    "print(movies_df.isnull().sum())\n",
    "\n",
    "print(\"\\nMissing values in Ratings Data:\")\n",
    "print(ratings_df.isnull().sum())"
   ]
  },
  {
   "cell_type": "markdown",
   "id": "8b9efd57-8500-435c-92f7-7a2d467aae4b",
   "metadata": {},
   "source": [
    "<h4 style=\"color:orange;\"> Explanation: </h4>\n",
    "\n",
    "Here, we use isnull().sum() to count the number of missing values in each column. This helps identify incomplete data that may need cleaning or imputation.\n",
    "\n",
    "<b>For instance:</b>\n",
    "\n",
    "The video_release_date column in movies_df is completely empty (1682 missing values), suggesting it’s irrelevant and could be dropped.\n",
    "This is like finding broken links in a chain before using it."
   ]
  },
  {
   "cell_type": "code",
   "execution_count": null,
   "id": "53777b99-71f8-4e2b-99f8-05a383d365e1",
   "metadata": {},
   "outputs": [],
   "source": [
    "# Display basic statistics of the ratings\n",
    "print(\"\\nRatings statistics:\")\n",
    "print(ratings_df.describe())"
   ]
  },
  {
   "cell_type": "markdown",
   "id": "588a785c-c888-4a20-b5e9-09c1d031b46e",
   "metadata": {},
   "source": [
    "<h4 style=\"color:cyan;\">Code Block 4: Cleaning the Movies Dataset </h4>"
   ]
  },
  {
   "cell_type": "code",
   "execution_count": null,
   "id": "d88171e3-5092-4253-9115-410eed3f0ad8",
   "metadata": {},
   "outputs": [],
   "source": [
    "# Check if 'video_release_date' exists before dropping\n",
    "if 'video_release_date' in movies_df.columns:\n",
    "    movies_df.drop(columns=['video_release_date'], inplace=True)\n",
    "else:\n",
    "    print(\"'video_release_date' column does not exist or was already dropped.\")\n",
    "    \n",
    "# Handle missing values in 'release_date' and 'IMDb_URL'\n",
    "movies_df['release_date'] = movies_df['release_date'].fillna('Unknown')\n",
    "movies_df['IMDb_URL'] = movies_df['IMDb_URL'].fillna('Unknown')\n",
    "\n",
    "print(\"Missing values after cleaning:\")\n",
    "print(movies_df.isnull().sum())"
   ]
  },
  {
   "cell_type": "markdown",
   "id": "05cd8d4f-a899-4869-9f42-ce3999cc6c5b",
   "metadata": {},
   "source": [
    "<h4 style=\"color:orange;\"> Explanation: </h4>\n",
    "\n",
    "This block cleans the movies_df dataset by addressing missing or irrelevant data. Here's what happens step-by-step:\n",
    "\n",
    "<b>Dropping the 'video_release_date' Column:</b>\n",
    "\n",
    "The code checks if the video_release_date column exists before attempting to drop it. This avoids runtime errors if the column is missing.\n",
    "This column has already been identified as irrelevant (completely empty), so it is removed.\n",
    "Example Thought: Imagine a column in your data that's like a ghost town—completely empty and offering no insights. Dropping it makes your dataset cleaner and more manageable.\n",
    "\n",
    "<b>Handling Missing Values:</b>\n",
    "\n",
    "Missing values in the release_date and IMDb_URL columns are replaced with the string 'Unknown'.\n",
    "This ensures there are no null entries, making the dataset consistent and preventing issues during further analysis.\n",
    "Why is this important? For example, if a movie’s release date is missing, marking it as 'Unknown' helps you recognize it explicitly rather than dealing with cryptic NaN values.\n",
    "\n",
    "<b>Checking for Remaining Missing Values:</b>\n",
    "\n",
    "After cleaning, the code prints the count of missing values in each column to confirm that the data is ready for analysis.\n",
    "This step is like tidying up your workspace before starting a project—it eliminates unnecessary distractions (empty columns) and ensures all tools (data fields) are in their place."
   ]
  },
  {
   "cell_type": "markdown",
   "id": "7f3976fc-b44e-4158-a4d7-a8672d14338d",
   "metadata": {},
   "source": [
    "<h4 style=\"color:cyan;\">Code Block 5: Visualizing Movie Release Years </h4>"
   ]
  },
  {
   "cell_type": "code",
   "execution_count": null,
   "id": "75154472-fcad-44dc-b15e-62ebedca9d1a",
   "metadata": {},
   "outputs": [],
   "source": [
    "import matplotlib.pyplot as plt\n",
    "import seaborn as sns\n",
    "import pandas as pd\n",
    "\n",
    "# Ensure 'release_date' is treated as a string\n",
    "movies_df['release_date'] = movies_df['release_date'].astype(str)\n",
    "\n",
    "# Extract the release year from the 'release_date' column\n",
    "movies_df['release_year'] = movies_df['release_date'].apply(\n",
    "    lambda x: x.split('-')[-1] if x != 'Unknown' and '-' in x else 'Unknown'\n",
    ")\n",
    "\n",
    "# Remove entries with 'Unknown' year for the visualization and create a copy\n",
    "movies_with_year = movies_df[movies_df['release_year'] != 'Unknown'].copy()\n",
    "\n",
    "# Convert 'release_year' to numeric for sorting and visualization\n",
    "movies_with_year['release_year'] = pd.to_numeric(movies_with_year['release_year'])\n",
    "\n",
    "# Plot a histogram of movie release years\n",
    "plt.figure(figsize=(12, 6))\n",
    "sns.histplot(data=movies_with_year, x='release_year', bins=30, kde=False, color=\"skyblue\")\n",
    "\n",
    "plt.title('Distribution of Movie Release Years', fontsize=16)\n",
    "plt.xlabel('Release Year', fontsize=14)\n",
    "plt.ylabel('Number of Movies', fontsize=14)\n",
    "plt.grid(axis='y', linestyle='--', alpha=0.7)\n",
    "plt.show()"
   ]
  },
  {
   "cell_type": "markdown",
   "id": "1c0af5da-b2ae-4787-8bb3-c3a41905fcc5",
   "metadata": {},
   "source": [
    "<h4 style=\"color:cyan;\">Code Block 6: Visualizing Movie Genres </h4>"
   ]
  },
  {
   "cell_type": "code",
   "execution_count": null,
   "id": "71ebed4a-83a7-44b9-9b03-ca130069b4e1",
   "metadata": {},
   "outputs": [],
   "source": [
    "import matplotlib.pyplot as plt\n",
    "\n",
    "# Identify genre columns dynamically by checking for binary columns (values 0 or 1)\n",
    "genre_columns = movies_df.columns[movies_df.columns.str.contains(r'unknown|Action|Adventure|Animation|Children|Comedy|Crime|Documentary|Drama|Fantasy|Film-Noir|Horror|Musical|Mystery|Romance|Sci-Fi|Thriller|War|Western')]\n",
    "\n",
    "# Ensure genres are binary (0s and 1s) before summing\n",
    "genre_counts = movies_df[genre_columns].apply(pd.to_numeric, errors='coerce').sum().sort_values(ascending=False)\n",
    "\n",
    "# Plot the genre distribution as a bar chart\n",
    "plt.figure(figsize=(12, 6))\n",
    "genre_counts.plot(kind='bar', color='coral', alpha=0.8)\n",
    "\n",
    "plt.title('Distribution of Movie Genres', fontsize=16)\n",
    "plt.xlabel('Genres', fontsize=14)\n",
    "plt.ylabel('Number of Movies', fontsize=14)\n",
    "plt.xticks(rotation=45, ha='right')\n",
    "plt.grid(axis='y', linestyle='--', alpha=0.7)\n",
    "plt.show()"
   ]
  },
  {
   "cell_type": "markdown",
   "id": "6fae3914-a0c6-40e2-ad3b-d9933ea7b795",
   "metadata": {},
   "source": [
    "<h4 style=\"color:cyan;\">Code Block 7: Visualizing Ratings Distribution </h4>"
   ]
  },
  {
   "cell_type": "code",
   "execution_count": null,
   "id": "dd0caa3e-2cce-43ff-b844-589d98e07dda",
   "metadata": {},
   "outputs": [],
   "source": [
    "# Plot the distribution of ratings\n",
    "plt.figure(figsize=(10, 6))\n",
    "sns.histplot(data=ratings_df, x='rating', bins=5, discrete=True, kde=False, color=\"green\")\n",
    "\n",
    "plt.title('Distribution of User Ratings', fontsize=16)\n",
    "plt.xlabel('Rating', fontsize=14)\n",
    "plt.ylabel('Frequency', fontsize=14)\n",
    "plt.grid(axis='y', linestyle='--', alpha=0.7)\n",
    "plt.show()"
   ]
  },
  {
   "cell_type": "markdown",
   "id": "46de5a08-8bf2-4aae-aa20-2c637c36e9db",
   "metadata": {},
   "source": [
    "<h4 style=\"color:cyan;\">Code Block 8: Saving the Cleaned Datasets </h4>"
   ]
  },
  {
   "cell_type": "code",
   "execution_count": null,
   "id": "9dfd5970-cc9e-4a11-9761-414243599e36",
   "metadata": {},
   "outputs": [],
   "source": [
    "# Save the cleaned movies dataset\n",
    "movies_df.to_csv('cleaned_data/movies_cleaned.csv', index=False)\n",
    "\n",
    "# Save the cleaned ratings dataset\n",
    "ratings_df.to_csv('cleaned_data/ratings_cleaned.csv', index=False)\n",
    "\n",
    "print(\"Cleaned datasets saved successfully:\")\n",
    "print(\"movies_cleaned.csv and ratings_cleaned.csv are stored in the 'cleaned_data/' folder.\")"
   ]
  },
  {
   "cell_type": "code",
   "execution_count": null,
   "id": "1b9dac13-6a47-42f6-8dd4-c4ecb4f934d0",
   "metadata": {},
   "outputs": [],
   "source": []
  }
 ],
 "metadata": {
  "kernelspec": {
   "display_name": "Python 3",
   "language": "python",
   "name": "python3"
  },
  "language_info": {
   "codemirror_mode": {
    "name": "ipython",
    "version": 3
   },
   "file_extension": ".py",
   "mimetype": "text/x-python",
   "name": "python",
   "nbconvert_exporter": "python",
   "pygments_lexer": "ipython3",
   "version": "3.12.5"
  }
 },
 "nbformat": 4,
 "nbformat_minor": 5
}
